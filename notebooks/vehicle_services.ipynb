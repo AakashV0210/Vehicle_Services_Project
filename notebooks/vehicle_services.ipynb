{
 "cells": [
  {
   "cell_type": "markdown",
   "id": "05a779e1",
   "metadata": {},
   "source": [
    "$\\textbf{ANALYSIS FOR THE VEHICLES SERVICES DATASET}$\n",
    "\n",
    "This dataset proves the customer' vehicle service data for a particular garage. This dataset was part of the final data cleaning project for the Udemy course titled \"Data Science A-Z: Hands-On Exercises & ChatGPT Prize [$2025$]\" by Kirill Eremenko, SuperDataScience Team and Ligency Team. It gives the service cost for servicing the vehicles in 2014, 2015 and an estimated cost for 2016. For this analysis, I will perform some additional checks to make sure the data is clean and then ignore the given estimated cost for 2016 to  build my own model to estimate it."
   ]
  },
  {
   "cell_type": "code",
   "execution_count": 1,
   "id": "24ca65bc",
   "metadata": {},
   "outputs": [],
   "source": [
    "import pandas as pd\n",
    "import numpy as np\n",
    "from sklearn.metrics import mean_absolute_error\n",
    "from sklearn.model_selection import train_test_split\n",
    "from sklearn.tree import DecisionTreeRegressor\n",
    "from sklearn.linear_model import LinearRegression\n",
    "from sklearn.ensemble import RandomForestRegressor\n",
    "import matplotlib.pyplot as plt\n",
    "from datetime import datetime\n",
    "\n",
    "import warnings\n",
    "warnings.filterwarnings('ignore')\n",
    "\n"
   ]
  },
  {
   "cell_type": "code",
   "execution_count": 2,
   "id": "6482bf30",
   "metadata": {},
   "outputs": [
    {
     "data": {
      "text/html": [
       "<div>\n",
       "<style scoped>\n",
       "    .dataframe tbody tr th:only-of-type {\n",
       "        vertical-align: middle;\n",
       "    }\n",
       "\n",
       "    .dataframe tbody tr th {\n",
       "        vertical-align: top;\n",
       "    }\n",
       "\n",
       "    .dataframe thead th {\n",
       "        text-align: right;\n",
       "    }\n",
       "</style>\n",
       "<table border=\"1\" class=\"dataframe\">\n",
       "  <thead>\n",
       "    <tr style=\"text-align: right;\">\n",
       "      <th></th>\n",
       "      <th>RowNumber</th>\n",
       "      <th>CustomerID</th>\n",
       "      <th>CustomerSince</th>\n",
       "      <th>Vehicle</th>\n",
       "      <th>2014</th>\n",
       "      <th>2015</th>\n",
       "      <th>2016E</th>\n",
       "    </tr>\n",
       "  </thead>\n",
       "  <tbody>\n",
       "    <tr>\n",
       "      <th>0</th>\n",
       "      <td>220894</td>\n",
       "      <td>2755739</td>\n",
       "      <td>2001-04-09</td>\n",
       "      <td>2007 Porsche Boxster</td>\n",
       "      <td>605.32</td>\n",
       "      <td>647.87</td>\n",
       "      <td>700.02</td>\n",
       "    </tr>\n",
       "    <tr>\n",
       "      <th>1</th>\n",
       "      <td>220895</td>\n",
       "      <td>2755740</td>\n",
       "      <td>2013-11-10</td>\n",
       "      <td>1998 Mitsubishi Diamante</td>\n",
       "      <td>360.45</td>\n",
       "      <td>798.80</td>\n",
       "      <td>352.89</td>\n",
       "    </tr>\n",
       "    <tr>\n",
       "      <th>2</th>\n",
       "      <td>220896</td>\n",
       "      <td>2755741</td>\n",
       "      <td>2009-04-12</td>\n",
       "      <td>2000 Pagani Zonda</td>\n",
       "      <td>638.13</td>\n",
       "      <td>347.64</td>\n",
       "      <td>265.26</td>\n",
       "    </tr>\n",
       "    <tr>\n",
       "      <th>3</th>\n",
       "      <td>220897</td>\n",
       "      <td>2755742</td>\n",
       "      <td>2003-02-18</td>\n",
       "      <td>2010 Lada 110</td>\n",
       "      <td>118.88</td>\n",
       "      <td>364.18</td>\n",
       "      <td>278.35</td>\n",
       "    </tr>\n",
       "    <tr>\n",
       "      <th>4</th>\n",
       "      <td>220898</td>\n",
       "      <td>2755743</td>\n",
       "      <td>2006-01-07</td>\n",
       "      <td>2004 Mercedes-Benz SL</td>\n",
       "      <td>537.90</td>\n",
       "      <td>589.06</td>\n",
       "      <td>404.05</td>\n",
       "    </tr>\n",
       "    <tr>\n",
       "      <th>...</th>\n",
       "      <td>...</td>\n",
       "      <td>...</td>\n",
       "      <td>...</td>\n",
       "      <td>...</td>\n",
       "      <td>...</td>\n",
       "      <td>...</td>\n",
       "      <td>...</td>\n",
       "    </tr>\n",
       "    <tr>\n",
       "      <th>1049993</th>\n",
       "      <td>220889</td>\n",
       "      <td>2755734</td>\n",
       "      <td>2012-07-24</td>\n",
       "      <td>2010 Citroen C4</td>\n",
       "      <td>81.19</td>\n",
       "      <td>348.58</td>\n",
       "      <td>453.49</td>\n",
       "    </tr>\n",
       "    <tr>\n",
       "      <th>1049994</th>\n",
       "      <td>220890</td>\n",
       "      <td>2755735</td>\n",
       "      <td>2014-10-05</td>\n",
       "      <td>1993 Fiat Uno</td>\n",
       "      <td>442.54</td>\n",
       "      <td>265.68</td>\n",
       "      <td>252.88</td>\n",
       "    </tr>\n",
       "    <tr>\n",
       "      <th>1049995</th>\n",
       "      <td>220891</td>\n",
       "      <td>2755736</td>\n",
       "      <td>2008-02-08</td>\n",
       "      <td>2011 Nissan X-Trail</td>\n",
       "      <td>8.73</td>\n",
       "      <td>525.51</td>\n",
       "      <td>50.09</td>\n",
       "    </tr>\n",
       "    <tr>\n",
       "      <th>1049996</th>\n",
       "      <td>220892</td>\n",
       "      <td>2755737</td>\n",
       "      <td>2009-02-08</td>\n",
       "      <td>1999 Renault Espace</td>\n",
       "      <td>379.69</td>\n",
       "      <td>684.26</td>\n",
       "      <td>7.49</td>\n",
       "    </tr>\n",
       "    <tr>\n",
       "      <th>1049997</th>\n",
       "      <td>220893</td>\n",
       "      <td>2755738</td>\n",
       "      <td>2013-03-15</td>\n",
       "      <td>2002 Buick Regal</td>\n",
       "      <td>62.33</td>\n",
       "      <td>582.50</td>\n",
       "      <td>605.38</td>\n",
       "    </tr>\n",
       "  </tbody>\n",
       "</table>\n",
       "<p>1049998 rows × 7 columns</p>\n",
       "</div>"
      ],
      "text/plain": [
       "         RowNumber  CustomerID CustomerSince                   Vehicle  \\\n",
       "0           220894     2755739    2001-04-09      2007 Porsche Boxster   \n",
       "1           220895     2755740    2013-11-10  1998 Mitsubishi Diamante   \n",
       "2           220896     2755741    2009-04-12         2000 Pagani Zonda   \n",
       "3           220897     2755742    2003-02-18             2010 Lada 110   \n",
       "4           220898     2755743    2006-01-07     2004 Mercedes-Benz SL   \n",
       "...            ...         ...           ...                       ...   \n",
       "1049993     220889     2755734    2012-07-24           2010 Citroen C4   \n",
       "1049994     220890     2755735    2014-10-05             1993 Fiat Uno   \n",
       "1049995     220891     2755736    2008-02-08       2011 Nissan X-Trail   \n",
       "1049996     220892     2755737    2009-02-08       1999 Renault Espace   \n",
       "1049997     220893     2755738    2013-03-15          2002 Buick Regal   \n",
       "\n",
       "           2014    2015   2016E  \n",
       "0        605.32  647.87  700.02  \n",
       "1        360.45  798.80  352.89  \n",
       "2        638.13  347.64  265.26  \n",
       "3        118.88  364.18  278.35  \n",
       "4        537.90  589.06  404.05  \n",
       "...         ...     ...     ...  \n",
       "1049993   81.19  348.58  453.49  \n",
       "1049994  442.54  265.68  252.88  \n",
       "1049995    8.73  525.51   50.09  \n",
       "1049996  379.69  684.26    7.49  \n",
       "1049997   62.33  582.50  605.38  \n",
       "\n",
       "[1049998 rows x 7 columns]"
      ]
     },
     "execution_count": 2,
     "metadata": {},
     "output_type": "execute_result"
    }
   ],
   "source": [
    "data = pd.read_csv('../vehicle_services_cleaned.csv')\n",
    "# data.sort_values(by = 'RowNumber', inplace=True)\n",
    "data"
   ]
  },
  {
   "cell_type": "markdown",
   "id": "b74d92dc",
   "metadata": {},
   "source": [
    "Checking datatypes:"
   ]
  },
  {
   "cell_type": "code",
   "execution_count": 3,
   "id": "23d15b50",
   "metadata": {},
   "outputs": [
    {
     "data": {
      "text/plain": [
       "RowNumber          int64\n",
       "CustomerID         int64\n",
       "CustomerSince     object\n",
       "Vehicle           object\n",
       "2014             float64\n",
       "2015             float64\n",
       "2016E            float64\n",
       "dtype: object"
      ]
     },
     "execution_count": 3,
     "metadata": {},
     "output_type": "execute_result"
    }
   ],
   "source": [
    "data.dtypes"
   ]
  },
  {
   "cell_type": "markdown",
   "id": "5a0f91f0",
   "metadata": {},
   "source": [
    "COnverting the CustomerSince column into a datetime object:"
   ]
  },
  {
   "cell_type": "code",
   "execution_count": 4,
   "id": "eaca1a7e",
   "metadata": {},
   "outputs": [
    {
     "data": {
      "text/plain": [
       "RowNumber                 int64\n",
       "CustomerID                int64\n",
       "CustomerSince    datetime64[ns]\n",
       "Vehicle                  object\n",
       "2014                    float64\n",
       "2015                    float64\n",
       "2016E                   float64\n",
       "dtype: object"
      ]
     },
     "execution_count": 4,
     "metadata": {},
     "output_type": "execute_result"
    }
   ],
   "source": [
    "data['CustomerSince'] = pd.to_datetime(data['CustomerSince'])\n",
    "data.dtypes"
   ]
  },
  {
   "cell_type": "markdown",
   "id": "16b21604",
   "metadata": {},
   "source": [
    "$\\textbf{CLEANING THE DATA: }$\n",
    "\n",
    "The above data has been partially cleaned in the ETL process. Two rows were excluded in this process as explained below. Furthermore, other errors were found in the data in the ETL process yet were not excluded in the ETL process. They will be excluded within Python as given below. The rows with the errors are all stored under project_name -> Analysis -> errors."
   ]
  },
  {
   "cell_type": "markdown",
   "id": "33284c34",
   "metadata": {},
   "source": [
    "$\\textit{Exclusion 1:}$ Row was excluded in the ETL process as it had an additional column: "
   ]
  },
  {
   "cell_type": "code",
   "execution_count": 5,
   "id": "f17f6245",
   "metadata": {},
   "outputs": [
    {
     "data": {
      "text/html": [
       "<div>\n",
       "<style scoped>\n",
       "    .dataframe tbody tr th:only-of-type {\n",
       "        vertical-align: middle;\n",
       "    }\n",
       "\n",
       "    .dataframe tbody tr th {\n",
       "        vertical-align: top;\n",
       "    }\n",
       "\n",
       "    .dataframe thead th {\n",
       "        text-align: right;\n",
       "    }\n",
       "</style>\n",
       "<table border=\"1\" class=\"dataframe\">\n",
       "  <thead>\n",
       "    <tr style=\"text-align: right;\">\n",
       "      <th></th>\n",
       "      <th>CustomerID</th>\n",
       "      <th>CustomerSince</th>\n",
       "      <th>Vehicle</th>\n",
       "      <th>2014</th>\n",
       "      <th>2015</th>\n",
       "      <th>2016E</th>\n",
       "      <th>Column 6</th>\n",
       "    </tr>\n",
       "  </thead>\n",
       "  <tbody>\n",
       "    <tr>\n",
       "      <th>0</th>\n",
       "      <td>2738818</td>\n",
       "      <td>2014-01-01</td>\n",
       "      <td>2009 Chevrolet Traverse</td>\n",
       "      <td>118.0</td>\n",
       "      <td>1.0</td>\n",
       "      <td>122.55</td>\n",
       "      <td>725.89</td>\n",
       "    </tr>\n",
       "  </tbody>\n",
       "</table>\n",
       "</div>"
      ],
      "text/plain": [
       "   CustomerID CustomerSince                  Vehicle   2014  2015   2016E  \\\n",
       "0     2738818    2014-01-01  2009 Chevrolet Traverse  118.0   1.0  122.55   \n",
       "\n",
       "   Column 6  \n",
       "0    725.89  "
      ]
     },
     "execution_count": 5,
     "metadata": {},
     "output_type": "execute_result"
    }
   ],
   "source": [
    "excluded_row_1 = pd.read_csv('../errors/automatically_excluded_errors/bad_records.txt')\n",
    "excluded_row_1"
   ]
  },
  {
   "cell_type": "markdown",
   "id": "5b90dfe9",
   "metadata": {},
   "source": [
    "$\\textit{Exclusion 2:}$ Row was excluded in SQL as the data for the '2015' column was invalid:"
   ]
  },
  {
   "cell_type": "code",
   "execution_count": 6,
   "id": "f9f7e1b3",
   "metadata": {},
   "outputs": [
    {
     "data": {
      "text/html": [
       "<div>\n",
       "<style scoped>\n",
       "    .dataframe tbody tr th:only-of-type {\n",
       "        vertical-align: middle;\n",
       "    }\n",
       "\n",
       "    .dataframe tbody tr th {\n",
       "        vertical-align: top;\n",
       "    }\n",
       "\n",
       "    .dataframe thead th {\n",
       "        text-align: right;\n",
       "    }\n",
       "</style>\n",
       "<table border=\"1\" class=\"dataframe\">\n",
       "  <thead>\n",
       "    <tr style=\"text-align: right;\">\n",
       "      <th></th>\n",
       "      <th>RowNumber</th>\n",
       "      <th>CustomerID</th>\n",
       "      <th>CustomerSince</th>\n",
       "      <th>Vehicle</th>\n",
       "      <th>2014</th>\n",
       "      <th>2015</th>\n",
       "      <th>2016E</th>\n",
       "      <th>Column 6</th>\n",
       "    </tr>\n",
       "  </thead>\n",
       "  <tbody>\n",
       "    <tr>\n",
       "      <th>0</th>\n",
       "      <td>676802</td>\n",
       "      <td>3211647</td>\n",
       "      <td>2004-12-21</td>\n",
       "      <td>1996 Daewoo Brougham</td>\n",
       "      <td>413.92</td>\n",
       "      <td>781$37</td>\n",
       "      <td>175.8</td>\n",
       "      <td>NaN</td>\n",
       "    </tr>\n",
       "  </tbody>\n",
       "</table>\n",
       "</div>"
      ],
      "text/plain": [
       "   RowNumber  CustomerID CustomerSince               Vehicle    2014    2015  \\\n",
       "0     676802     3211647    2004-12-21  1996 Daewoo Brougham  413.92  781$37   \n",
       "\n",
       "   2016E  Column 6  \n",
       "0  175.8       NaN  "
      ]
     },
     "execution_count": 6,
     "metadata": {},
     "output_type": "execute_result"
    }
   ],
   "source": [
    "excluded_row_2 = pd.read_csv('../errors/manually_excluded_errors/invalid_2015_data.csv')\n",
    "# print(excluded_row_2.head())\n",
    "# excluded_row_2.drop(labels=['Column 6'], axis=1, inplace=True) # dropping the additional column since it serves no purpose\n",
    "excluded_row_2"
   ]
  },
  {
   "cell_type": "markdown",
   "id": "834cde63",
   "metadata": {},
   "source": [
    "$\\textit{Exclusion 3:}$ Rows to be excluded as they had identical CustomerID:"
   ]
  },
  {
   "cell_type": "code",
   "execution_count": 7,
   "id": "fe70b81e",
   "metadata": {},
   "outputs": [
    {
     "data": {
      "text/plain": [
       "3490750    2\n",
       "3455698    1\n",
       "3455732    1\n",
       "3455733    1\n",
       "3455734    1\n",
       "          ..\n",
       "3105743    1\n",
       "3105744    1\n",
       "3105745    1\n",
       "3105746    1\n",
       "2755738    1\n",
       "Name: CustomerID, Length: 1049997, dtype: int64"
      ]
     },
     "execution_count": 7,
     "metadata": {},
     "output_type": "execute_result"
    }
   ],
   "source": [
    "ID_count = data.CustomerID.value_counts(sort=True)\n",
    "ID_count"
   ]
  },
  {
   "cell_type": "code",
   "execution_count": 8,
   "id": "575858b8",
   "metadata": {},
   "outputs": [
    {
     "name": "stdout",
     "output_type": "stream",
     "text": [
      "There are 2 occurences of customers with CustomerID = 3490750 although it must be unique.\n"
     ]
    }
   ],
   "source": [
    "print(\"There are {} occurences of customers with CustomerID = {} although it must be unique.\".format(ID_count.values[0], ID_count.index[0]))"
   ]
  },
  {
   "cell_type": "code",
   "execution_count": 9,
   "id": "fe7d1ae8",
   "metadata": {},
   "outputs": [
    {
     "data": {
      "text/html": [
       "<div>\n",
       "<style scoped>\n",
       "    .dataframe tbody tr th:only-of-type {\n",
       "        vertical-align: middle;\n",
       "    }\n",
       "\n",
       "    .dataframe tbody tr th {\n",
       "        vertical-align: top;\n",
       "    }\n",
       "\n",
       "    .dataframe thead th {\n",
       "        text-align: right;\n",
       "    }\n",
       "</style>\n",
       "<table border=\"1\" class=\"dataframe\">\n",
       "  <thead>\n",
       "    <tr style=\"text-align: right;\">\n",
       "      <th></th>\n",
       "      <th>RowNumber</th>\n",
       "      <th>CustomerID</th>\n",
       "      <th>CustomerSince</th>\n",
       "      <th>Vehicle</th>\n",
       "      <th>2014</th>\n",
       "      <th>2015</th>\n",
       "      <th>2016E</th>\n",
       "    </tr>\n",
       "  </thead>\n",
       "  <tbody>\n",
       "    <tr>\n",
       "      <th>0</th>\n",
       "      <td>955904</td>\n",
       "      <td>3490750</td>\n",
       "      <td>2006-05-17</td>\n",
       "      <td>2007 Tata Sumo</td>\n",
       "      <td>349.88</td>\n",
       "      <td>340.62</td>\n",
       "      <td>517.20</td>\n",
       "    </tr>\n",
       "    <tr>\n",
       "      <th>1</th>\n",
       "      <td>955905</td>\n",
       "      <td>3490750</td>\n",
       "      <td>2006-01-22</td>\n",
       "      <td>2004 Volkswagen Touran</td>\n",
       "      <td>735.77</td>\n",
       "      <td>741.23</td>\n",
       "      <td>314.09</td>\n",
       "    </tr>\n",
       "  </tbody>\n",
       "</table>\n",
       "</div>"
      ],
      "text/plain": [
       "   RowNumber  CustomerID CustomerSince                 Vehicle    2014  \\\n",
       "0     955904     3490750    2006-05-17          2007 Tata Sumo  349.88   \n",
       "1     955905     3490750    2006-01-22  2004 Volkswagen Touran  735.77   \n",
       "\n",
       "     2015   2016E  \n",
       "0  340.62  517.20  \n",
       "1  741.23  314.09  "
      ]
     },
     "execution_count": 9,
     "metadata": {},
     "output_type": "execute_result"
    }
   ],
   "source": [
    "excluded_row_3 = pd.read_csv('../errors/manually_excluded_errors/duplicate_CustomerID.csv')\n",
    "excluded_row_3"
   ]
  },
  {
   "cell_type": "markdown",
   "id": "582b8b94",
   "metadata": {},
   "source": [
    "Removing these rows from the main data:"
   ]
  },
  {
   "cell_type": "code",
   "execution_count": 10,
   "id": "1f7bea84",
   "metadata": {},
   "outputs": [
    {
     "data": {
      "text/html": [
       "<div>\n",
       "<style scoped>\n",
       "    .dataframe tbody tr th:only-of-type {\n",
       "        vertical-align: middle;\n",
       "    }\n",
       "\n",
       "    .dataframe tbody tr th {\n",
       "        vertical-align: top;\n",
       "    }\n",
       "\n",
       "    .dataframe thead th {\n",
       "        text-align: right;\n",
       "    }\n",
       "</style>\n",
       "<table border=\"1\" class=\"dataframe\">\n",
       "  <thead>\n",
       "    <tr style=\"text-align: right;\">\n",
       "      <th></th>\n",
       "      <th>RowNumber</th>\n",
       "      <th>CustomerID</th>\n",
       "      <th>CustomerSince</th>\n",
       "      <th>Vehicle</th>\n",
       "      <th>2014</th>\n",
       "      <th>2015</th>\n",
       "      <th>2016E</th>\n",
       "    </tr>\n",
       "  </thead>\n",
       "  <tbody>\n",
       "    <tr>\n",
       "      <th>0</th>\n",
       "      <td>220894</td>\n",
       "      <td>2755739</td>\n",
       "      <td>2001-04-09</td>\n",
       "      <td>2007 Porsche Boxster</td>\n",
       "      <td>605.32</td>\n",
       "      <td>647.87</td>\n",
       "      <td>700.02</td>\n",
       "    </tr>\n",
       "    <tr>\n",
       "      <th>1</th>\n",
       "      <td>220895</td>\n",
       "      <td>2755740</td>\n",
       "      <td>2013-11-10</td>\n",
       "      <td>1998 Mitsubishi Diamante</td>\n",
       "      <td>360.45</td>\n",
       "      <td>798.80</td>\n",
       "      <td>352.89</td>\n",
       "    </tr>\n",
       "    <tr>\n",
       "      <th>2</th>\n",
       "      <td>220896</td>\n",
       "      <td>2755741</td>\n",
       "      <td>2009-04-12</td>\n",
       "      <td>2000 Pagani Zonda</td>\n",
       "      <td>638.13</td>\n",
       "      <td>347.64</td>\n",
       "      <td>265.26</td>\n",
       "    </tr>\n",
       "    <tr>\n",
       "      <th>3</th>\n",
       "      <td>220897</td>\n",
       "      <td>2755742</td>\n",
       "      <td>2003-02-18</td>\n",
       "      <td>2010 Lada 110</td>\n",
       "      <td>118.88</td>\n",
       "      <td>364.18</td>\n",
       "      <td>278.35</td>\n",
       "    </tr>\n",
       "    <tr>\n",
       "      <th>4</th>\n",
       "      <td>220898</td>\n",
       "      <td>2755743</td>\n",
       "      <td>2006-01-07</td>\n",
       "      <td>2004 Mercedes-Benz SL</td>\n",
       "      <td>537.90</td>\n",
       "      <td>589.06</td>\n",
       "      <td>404.05</td>\n",
       "    </tr>\n",
       "    <tr>\n",
       "      <th>...</th>\n",
       "      <td>...</td>\n",
       "      <td>...</td>\n",
       "      <td>...</td>\n",
       "      <td>...</td>\n",
       "      <td>...</td>\n",
       "      <td>...</td>\n",
       "      <td>...</td>\n",
       "    </tr>\n",
       "    <tr>\n",
       "      <th>1049993</th>\n",
       "      <td>220889</td>\n",
       "      <td>2755734</td>\n",
       "      <td>2012-07-24</td>\n",
       "      <td>2010 Citroen C4</td>\n",
       "      <td>81.19</td>\n",
       "      <td>348.58</td>\n",
       "      <td>453.49</td>\n",
       "    </tr>\n",
       "    <tr>\n",
       "      <th>1049994</th>\n",
       "      <td>220890</td>\n",
       "      <td>2755735</td>\n",
       "      <td>2014-10-05</td>\n",
       "      <td>1993 Fiat Uno</td>\n",
       "      <td>442.54</td>\n",
       "      <td>265.68</td>\n",
       "      <td>252.88</td>\n",
       "    </tr>\n",
       "    <tr>\n",
       "      <th>1049995</th>\n",
       "      <td>220891</td>\n",
       "      <td>2755736</td>\n",
       "      <td>2008-02-08</td>\n",
       "      <td>2011 Nissan X-Trail</td>\n",
       "      <td>8.73</td>\n",
       "      <td>525.51</td>\n",
       "      <td>50.09</td>\n",
       "    </tr>\n",
       "    <tr>\n",
       "      <th>1049996</th>\n",
       "      <td>220892</td>\n",
       "      <td>2755737</td>\n",
       "      <td>2009-02-08</td>\n",
       "      <td>1999 Renault Espace</td>\n",
       "      <td>379.69</td>\n",
       "      <td>684.26</td>\n",
       "      <td>7.49</td>\n",
       "    </tr>\n",
       "    <tr>\n",
       "      <th>1049997</th>\n",
       "      <td>220893</td>\n",
       "      <td>2755738</td>\n",
       "      <td>2013-03-15</td>\n",
       "      <td>2002 Buick Regal</td>\n",
       "      <td>62.33</td>\n",
       "      <td>582.50</td>\n",
       "      <td>605.38</td>\n",
       "    </tr>\n",
       "  </tbody>\n",
       "</table>\n",
       "<p>1049996 rows × 7 columns</p>\n",
       "</div>"
      ],
      "text/plain": [
       "         RowNumber  CustomerID CustomerSince                   Vehicle  \\\n",
       "0           220894     2755739    2001-04-09      2007 Porsche Boxster   \n",
       "1           220895     2755740    2013-11-10  1998 Mitsubishi Diamante   \n",
       "2           220896     2755741    2009-04-12         2000 Pagani Zonda   \n",
       "3           220897     2755742    2003-02-18             2010 Lada 110   \n",
       "4           220898     2755743    2006-01-07     2004 Mercedes-Benz SL   \n",
       "...            ...         ...           ...                       ...   \n",
       "1049993     220889     2755734    2012-07-24           2010 Citroen C4   \n",
       "1049994     220890     2755735    2014-10-05             1993 Fiat Uno   \n",
       "1049995     220891     2755736    2008-02-08       2011 Nissan X-Trail   \n",
       "1049996     220892     2755737    2009-02-08       1999 Renault Espace   \n",
       "1049997     220893     2755738    2013-03-15          2002 Buick Regal   \n",
       "\n",
       "           2014    2015   2016E  \n",
       "0        605.32  647.87  700.02  \n",
       "1        360.45  798.80  352.89  \n",
       "2        638.13  347.64  265.26  \n",
       "3        118.88  364.18  278.35  \n",
       "4        537.90  589.06  404.05  \n",
       "...         ...     ...     ...  \n",
       "1049993   81.19  348.58  453.49  \n",
       "1049994  442.54  265.68  252.88  \n",
       "1049995    8.73  525.51   50.09  \n",
       "1049996  379.69  684.26    7.49  \n",
       "1049997   62.33  582.50  605.38  \n",
       "\n",
       "[1049996 rows x 7 columns]"
      ]
     },
     "execution_count": 10,
     "metadata": {},
     "output_type": "execute_result"
    }
   ],
   "source": [
    "data = data[data['CustomerID'] != excluded_row_3.CustomerID.values[0]]\n",
    "data"
   ]
  },
  {
   "cell_type": "markdown",
   "id": "b078568f",
   "metadata": {},
   "source": [
    "$\\textit{Exclusion 4:}$ Row excluded as customer was a member since significantly before othere customers:"
   ]
  },
  {
   "cell_type": "code",
   "execution_count": 11,
   "id": "5f8684fa",
   "metadata": {},
   "outputs": [
    {
     "data": {
      "image/png": "[encoded data removed]",
      "text/plain": [
       "<Figure size 640x480 with 1 Axes>"
      ]
     },
     "metadata": {},
     "output_type": "display_data"
    },
    {
     "name": "stdout",
     "output_type": "stream",
     "text": [
      "The earliest customer is from the date 1899-04-30 00:00:00\n"
     ]
    }
   ],
   "source": [
    "plt.hist(data.CustomerSince, log=True)\n",
    "\n",
    "plt.xlabel('CustomerSince')\n",
    "plt.ylabel('Frequency')\n",
    "plt.show()\n",
    "\n",
    "print(\"The earliest customer is from the date {}\".format(data.CustomerSince.min()))"
   ]
  },
  {
   "cell_type": "markdown",
   "id": "4def1edc",
   "metadata": {},
   "source": [
    "One customer has been a memeber of this garage since 1899, which is much earlier than the other customers. This was most likely a date entry error. Therefore this row will be excluded."
   ]
  },
  {
   "cell_type": "code",
   "execution_count": 12,
   "id": "d7db9ff8",
   "metadata": {},
   "outputs": [
    {
     "data": {
      "text/html": [
       "<div>\n",
       "<style scoped>\n",
       "    .dataframe tbody tr th:only-of-type {\n",
       "        vertical-align: middle;\n",
       "    }\n",
       "\n",
       "    .dataframe tbody tr th {\n",
       "        vertical-align: top;\n",
       "    }\n",
       "\n",
       "    .dataframe thead th {\n",
       "        text-align: right;\n",
       "    }\n",
       "</style>\n",
       "<table border=\"1\" class=\"dataframe\">\n",
       "  <thead>\n",
       "    <tr style=\"text-align: right;\">\n",
       "      <th></th>\n",
       "      <th>RowNumber</th>\n",
       "      <th>CustomerID</th>\n",
       "      <th>CustomerSince</th>\n",
       "      <th>Vehicle</th>\n",
       "      <th>2014</th>\n",
       "      <th>2015</th>\n",
       "      <th>2016E</th>\n",
       "    </tr>\n",
       "  </thead>\n",
       "  <tbody>\n",
       "    <tr>\n",
       "      <th>0</th>\n",
       "      <td>407988</td>\n",
       "      <td>2942833</td>\n",
       "      <td>1899-04-30</td>\n",
       "      <td>2001 Jaguar XJR</td>\n",
       "      <td>610.33</td>\n",
       "      <td>460.45</td>\n",
       "      <td>156.12</td>\n",
       "    </tr>\n",
       "  </tbody>\n",
       "</table>\n",
       "</div>"
      ],
      "text/plain": [
       "   RowNumber  CustomerID CustomerSince          Vehicle    2014    2015  \\\n",
       "0     407988     2942833    1899-04-30  2001 Jaguar XJR  610.33  460.45   \n",
       "\n",
       "    2016E  \n",
       "0  156.12  "
      ]
     },
     "execution_count": 12,
     "metadata": {},
     "output_type": "execute_result"
    }
   ],
   "source": [
    "excluded_row_4 = pd.read_csv('../errors/manually_excluded_errors/old_data_point.csv')\n",
    "excluded_row_4"
   ]
  },
  {
   "cell_type": "code",
   "execution_count": 13,
   "id": "958f309d",
   "metadata": {},
   "outputs": [
    {
     "data": {
      "text/html": [
       "<div>\n",
       "<style scoped>\n",
       "    .dataframe tbody tr th:only-of-type {\n",
       "        vertical-align: middle;\n",
       "    }\n",
       "\n",
       "    .dataframe tbody tr th {\n",
       "        vertical-align: top;\n",
       "    }\n",
       "\n",
       "    .dataframe thead th {\n",
       "        text-align: right;\n",
       "    }\n",
       "</style>\n",
       "<table border=\"1\" class=\"dataframe\">\n",
       "  <thead>\n",
       "    <tr style=\"text-align: right;\">\n",
       "      <th></th>\n",
       "      <th>RowNumber</th>\n",
       "      <th>CustomerID</th>\n",
       "      <th>CustomerSince</th>\n",
       "      <th>Vehicle</th>\n",
       "      <th>2014</th>\n",
       "      <th>2015</th>\n",
       "      <th>2016E</th>\n",
       "    </tr>\n",
       "  </thead>\n",
       "  <tbody>\n",
       "    <tr>\n",
       "      <th>0</th>\n",
       "      <td>220894</td>\n",
       "      <td>2755739</td>\n",
       "      <td>2001-04-09</td>\n",
       "      <td>2007 Porsche Boxster</td>\n",
       "      <td>605.32</td>\n",
       "      <td>647.87</td>\n",
       "      <td>700.02</td>\n",
       "    </tr>\n",
       "    <tr>\n",
       "      <th>1</th>\n",
       "      <td>220895</td>\n",
       "      <td>2755740</td>\n",
       "      <td>2013-11-10</td>\n",
       "      <td>1998 Mitsubishi Diamante</td>\n",
       "      <td>360.45</td>\n",
       "      <td>798.80</td>\n",
       "      <td>352.89</td>\n",
       "    </tr>\n",
       "    <tr>\n",
       "      <th>2</th>\n",
       "      <td>220896</td>\n",
       "      <td>2755741</td>\n",
       "      <td>2009-04-12</td>\n",
       "      <td>2000 Pagani Zonda</td>\n",
       "      <td>638.13</td>\n",
       "      <td>347.64</td>\n",
       "      <td>265.26</td>\n",
       "    </tr>\n",
       "    <tr>\n",
       "      <th>3</th>\n",
       "      <td>220897</td>\n",
       "      <td>2755742</td>\n",
       "      <td>2003-02-18</td>\n",
       "      <td>2010 Lada 110</td>\n",
       "      <td>118.88</td>\n",
       "      <td>364.18</td>\n",
       "      <td>278.35</td>\n",
       "    </tr>\n",
       "    <tr>\n",
       "      <th>4</th>\n",
       "      <td>220898</td>\n",
       "      <td>2755743</td>\n",
       "      <td>2006-01-07</td>\n",
       "      <td>2004 Mercedes-Benz SL</td>\n",
       "      <td>537.90</td>\n",
       "      <td>589.06</td>\n",
       "      <td>404.05</td>\n",
       "    </tr>\n",
       "    <tr>\n",
       "      <th>...</th>\n",
       "      <td>...</td>\n",
       "      <td>...</td>\n",
       "      <td>...</td>\n",
       "      <td>...</td>\n",
       "      <td>...</td>\n",
       "      <td>...</td>\n",
       "      <td>...</td>\n",
       "    </tr>\n",
       "    <tr>\n",
       "      <th>1049993</th>\n",
       "      <td>220889</td>\n",
       "      <td>2755734</td>\n",
       "      <td>2012-07-24</td>\n",
       "      <td>2010 Citroen C4</td>\n",
       "      <td>81.19</td>\n",
       "      <td>348.58</td>\n",
       "      <td>453.49</td>\n",
       "    </tr>\n",
       "    <tr>\n",
       "      <th>1049994</th>\n",
       "      <td>220890</td>\n",
       "      <td>2755735</td>\n",
       "      <td>2014-10-05</td>\n",
       "      <td>1993 Fiat Uno</td>\n",
       "      <td>442.54</td>\n",
       "      <td>265.68</td>\n",
       "      <td>252.88</td>\n",
       "    </tr>\n",
       "    <tr>\n",
       "      <th>1049995</th>\n",
       "      <td>220891</td>\n",
       "      <td>2755736</td>\n",
       "      <td>2008-02-08</td>\n",
       "      <td>2011 Nissan X-Trail</td>\n",
       "      <td>8.73</td>\n",
       "      <td>525.51</td>\n",
       "      <td>50.09</td>\n",
       "    </tr>\n",
       "    <tr>\n",
       "      <th>1049996</th>\n",
       "      <td>220892</td>\n",
       "      <td>2755737</td>\n",
       "      <td>2009-02-08</td>\n",
       "      <td>1999 Renault Espace</td>\n",
       "      <td>379.69</td>\n",
       "      <td>684.26</td>\n",
       "      <td>7.49</td>\n",
       "    </tr>\n",
       "    <tr>\n",
       "      <th>1049997</th>\n",
       "      <td>220893</td>\n",
       "      <td>2755738</td>\n",
       "      <td>2013-03-15</td>\n",
       "      <td>2002 Buick Regal</td>\n",
       "      <td>62.33</td>\n",
       "      <td>582.50</td>\n",
       "      <td>605.38</td>\n",
       "    </tr>\n",
       "  </tbody>\n",
       "</table>\n",
       "<p>1049995 rows × 7 columns</p>\n",
       "</div>"
      ],
      "text/plain": [
       "         RowNumber  CustomerID CustomerSince                   Vehicle  \\\n",
       "0           220894     2755739    2001-04-09      2007 Porsche Boxster   \n",
       "1           220895     2755740    2013-11-10  1998 Mitsubishi Diamante   \n",
       "2           220896     2755741    2009-04-12         2000 Pagani Zonda   \n",
       "3           220897     2755742    2003-02-18             2010 Lada 110   \n",
       "4           220898     2755743    2006-01-07     2004 Mercedes-Benz SL   \n",
       "...            ...         ...           ...                       ...   \n",
       "1049993     220889     2755734    2012-07-24           2010 Citroen C4   \n",
       "1049994     220890     2755735    2014-10-05             1993 Fiat Uno   \n",
       "1049995     220891     2755736    2008-02-08       2011 Nissan X-Trail   \n",
       "1049996     220892     2755737    2009-02-08       1999 Renault Espace   \n",
       "1049997     220893     2755738    2013-03-15          2002 Buick Regal   \n",
       "\n",
       "           2014    2015   2016E  \n",
       "0        605.32  647.87  700.02  \n",
       "1        360.45  798.80  352.89  \n",
       "2        638.13  347.64  265.26  \n",
       "3        118.88  364.18  278.35  \n",
       "4        537.90  589.06  404.05  \n",
       "...         ...     ...     ...  \n",
       "1049993   81.19  348.58  453.49  \n",
       "1049994  442.54  265.68  252.88  \n",
       "1049995    8.73  525.51   50.09  \n",
       "1049996  379.69  684.26    7.49  \n",
       "1049997   62.33  582.50  605.38  \n",
       "\n",
       "[1049995 rows x 7 columns]"
      ]
     },
     "execution_count": 13,
     "metadata": {},
     "output_type": "execute_result"
    }
   ],
   "source": [
    "data = data[data['CustomerID'] != excluded_row_4.CustomerID.values[0]]\n",
    "data"
   ]
  },
  {
   "cell_type": "markdown",
   "id": "77fa386a",
   "metadata": {},
   "source": []
  },
  {
   "cell_type": "markdown",
   "id": "c9433902",
   "metadata": {},
   "source": [
    "$\\textit{Exclusion 5:}$ Row excluded as '2014' column had a outlier:"
   ]
  },
  {
   "cell_type": "code",
   "execution_count": 14,
   "id": "3b70ac91",
   "metadata": {},
   "outputs": [
    {
     "data": {
      "image/png": "[encoded data removed]",
      "text/plain": [
       "<Figure size 640x480 with 1 Axes>"
      ]
     },
     "metadata": {},
     "output_type": "display_data"
    }
   ],
   "source": [
    "plt.hist(data['2014'], bins = 8, log=True)\n",
    "plt.xlabel('2014 cost')\n",
    "plt.ylabel('Frequency')\n",
    "plt.show()"
   ]
  },
  {
   "cell_type": "markdown",
   "id": "2405decd",
   "metadata": {},
   "source": [
    "We see that all but one data point has a 2014 cost between $0 and $2500. Therefore, this outlier must be discarded"
   ]
  },
  {
   "cell_type": "code",
   "execution_count": 15,
   "id": "d188f265",
   "metadata": {},
   "outputs": [
    {
     "data": {
      "text/html": [
       "<div>\n",
       "<style scoped>\n",
       "    .dataframe tbody tr th:only-of-type {\n",
       "        vertical-align: middle;\n",
       "    }\n",
       "\n",
       "    .dataframe tbody tr th {\n",
       "        vertical-align: top;\n",
       "    }\n",
       "\n",
       "    .dataframe thead th {\n",
       "        text-align: right;\n",
       "    }\n",
       "</style>\n",
       "<table border=\"1\" class=\"dataframe\">\n",
       "  <thead>\n",
       "    <tr style=\"text-align: right;\">\n",
       "      <th></th>\n",
       "      <th>RowNumber</th>\n",
       "      <th>CustomerID</th>\n",
       "      <th>CustomerSince</th>\n",
       "      <th>Vehicle</th>\n",
       "      <th>2014</th>\n",
       "      <th>2015</th>\n",
       "      <th>2016E</th>\n",
       "    </tr>\n",
       "  </thead>\n",
       "  <tbody>\n",
       "    <tr>\n",
       "      <th>0</th>\n",
       "      <td>902805</td>\n",
       "      <td>3437651</td>\n",
       "      <td>2009-06-27</td>\n",
       "      <td>2005 Holden Combo</td>\n",
       "      <td>20000</td>\n",
       "      <td>783.96</td>\n",
       "      <td>122.86</td>\n",
       "    </tr>\n",
       "  </tbody>\n",
       "</table>\n",
       "</div>"
      ],
      "text/plain": [
       "   RowNumber  CustomerID CustomerSince            Vehicle   2014    2015  \\\n",
       "0     902805     3437651    2009-06-27  2005 Holden Combo  20000  783.96   \n",
       "\n",
       "    2016E  \n",
       "0  122.86  "
      ]
     },
     "execution_count": 15,
     "metadata": {},
     "output_type": "execute_result"
    }
   ],
   "source": [
    "excluded_row_5 = pd.read_csv('../errors/manually_excluded_errors/2014_column_outlier.csv')\n",
    "excluded_row_5"
   ]
  },
  {
   "cell_type": "code",
   "execution_count": 16,
   "id": "55c5e104",
   "metadata": {},
   "outputs": [
    {
     "data": {
      "text/html": [
       "<div>\n",
       "<style scoped>\n",
       "    .dataframe tbody tr th:only-of-type {\n",
       "        vertical-align: middle;\n",
       "    }\n",
       "\n",
       "    .dataframe tbody tr th {\n",
       "        vertical-align: top;\n",
       "    }\n",
       "\n",
       "    .dataframe thead th {\n",
       "        text-align: right;\n",
       "    }\n",
       "</style>\n",
       "<table border=\"1\" class=\"dataframe\">\n",
       "  <thead>\n",
       "    <tr style=\"text-align: right;\">\n",
       "      <th></th>\n",
       "      <th>RowNumber</th>\n",
       "      <th>CustomerID</th>\n",
       "      <th>CustomerSince</th>\n",
       "      <th>Vehicle</th>\n",
       "      <th>2014</th>\n",
       "      <th>2015</th>\n",
       "      <th>2016E</th>\n",
       "    </tr>\n",
       "  </thead>\n",
       "  <tbody>\n",
       "    <tr>\n",
       "      <th>0</th>\n",
       "      <td>220894</td>\n",
       "      <td>2755739</td>\n",
       "      <td>2001-04-09</td>\n",
       "      <td>2007 Porsche Boxster</td>\n",
       "      <td>605.32</td>\n",
       "      <td>647.87</td>\n",
       "      <td>700.02</td>\n",
       "    </tr>\n",
       "    <tr>\n",
       "      <th>1</th>\n",
       "      <td>220895</td>\n",
       "      <td>2755740</td>\n",
       "      <td>2013-11-10</td>\n",
       "      <td>1998 Mitsubishi Diamante</td>\n",
       "      <td>360.45</td>\n",
       "      <td>798.80</td>\n",
       "      <td>352.89</td>\n",
       "    </tr>\n",
       "    <tr>\n",
       "      <th>2</th>\n",
       "      <td>220896</td>\n",
       "      <td>2755741</td>\n",
       "      <td>2009-04-12</td>\n",
       "      <td>2000 Pagani Zonda</td>\n",
       "      <td>638.13</td>\n",
       "      <td>347.64</td>\n",
       "      <td>265.26</td>\n",
       "    </tr>\n",
       "    <tr>\n",
       "      <th>3</th>\n",
       "      <td>220897</td>\n",
       "      <td>2755742</td>\n",
       "      <td>2003-02-18</td>\n",
       "      <td>2010 Lada 110</td>\n",
       "      <td>118.88</td>\n",
       "      <td>364.18</td>\n",
       "      <td>278.35</td>\n",
       "    </tr>\n",
       "    <tr>\n",
       "      <th>4</th>\n",
       "      <td>220898</td>\n",
       "      <td>2755743</td>\n",
       "      <td>2006-01-07</td>\n",
       "      <td>2004 Mercedes-Benz SL</td>\n",
       "      <td>537.90</td>\n",
       "      <td>589.06</td>\n",
       "      <td>404.05</td>\n",
       "    </tr>\n",
       "    <tr>\n",
       "      <th>...</th>\n",
       "      <td>...</td>\n",
       "      <td>...</td>\n",
       "      <td>...</td>\n",
       "      <td>...</td>\n",
       "      <td>...</td>\n",
       "      <td>...</td>\n",
       "      <td>...</td>\n",
       "    </tr>\n",
       "    <tr>\n",
       "      <th>1049993</th>\n",
       "      <td>220889</td>\n",
       "      <td>2755734</td>\n",
       "      <td>2012-07-24</td>\n",
       "      <td>2010 Citroen C4</td>\n",
       "      <td>81.19</td>\n",
       "      <td>348.58</td>\n",
       "      <td>453.49</td>\n",
       "    </tr>\n",
       "    <tr>\n",
       "      <th>1049994</th>\n",
       "      <td>220890</td>\n",
       "      <td>2755735</td>\n",
       "      <td>2014-10-05</td>\n",
       "      <td>1993 Fiat Uno</td>\n",
       "      <td>442.54</td>\n",
       "      <td>265.68</td>\n",
       "      <td>252.88</td>\n",
       "    </tr>\n",
       "    <tr>\n",
       "      <th>1049995</th>\n",
       "      <td>220891</td>\n",
       "      <td>2755736</td>\n",
       "      <td>2008-02-08</td>\n",
       "      <td>2011 Nissan X-Trail</td>\n",
       "      <td>8.73</td>\n",
       "      <td>525.51</td>\n",
       "      <td>50.09</td>\n",
       "    </tr>\n",
       "    <tr>\n",
       "      <th>1049996</th>\n",
       "      <td>220892</td>\n",
       "      <td>2755737</td>\n",
       "      <td>2009-02-08</td>\n",
       "      <td>1999 Renault Espace</td>\n",
       "      <td>379.69</td>\n",
       "      <td>684.26</td>\n",
       "      <td>7.49</td>\n",
       "    </tr>\n",
       "    <tr>\n",
       "      <th>1049997</th>\n",
       "      <td>220893</td>\n",
       "      <td>2755738</td>\n",
       "      <td>2013-03-15</td>\n",
       "      <td>2002 Buick Regal</td>\n",
       "      <td>62.33</td>\n",
       "      <td>582.50</td>\n",
       "      <td>605.38</td>\n",
       "    </tr>\n",
       "  </tbody>\n",
       "</table>\n",
       "<p>1049994 rows × 7 columns</p>\n",
       "</div>"
      ],
      "text/plain": [
       "         RowNumber  CustomerID CustomerSince                   Vehicle  \\\n",
       "0           220894     2755739    2001-04-09      2007 Porsche Boxster   \n",
       "1           220895     2755740    2013-11-10  1998 Mitsubishi Diamante   \n",
       "2           220896     2755741    2009-04-12         2000 Pagani Zonda   \n",
       "3           220897     2755742    2003-02-18             2010 Lada 110   \n",
       "4           220898     2755743    2006-01-07     2004 Mercedes-Benz SL   \n",
       "...            ...         ...           ...                       ...   \n",
       "1049993     220889     2755734    2012-07-24           2010 Citroen C4   \n",
       "1049994     220890     2755735    2014-10-05             1993 Fiat Uno   \n",
       "1049995     220891     2755736    2008-02-08       2011 Nissan X-Trail   \n",
       "1049996     220892     2755737    2009-02-08       1999 Renault Espace   \n",
       "1049997     220893     2755738    2013-03-15          2002 Buick Regal   \n",
       "\n",
       "           2014    2015   2016E  \n",
       "0        605.32  647.87  700.02  \n",
       "1        360.45  798.80  352.89  \n",
       "2        638.13  347.64  265.26  \n",
       "3        118.88  364.18  278.35  \n",
       "4        537.90  589.06  404.05  \n",
       "...         ...     ...     ...  \n",
       "1049993   81.19  348.58  453.49  \n",
       "1049994  442.54  265.68  252.88  \n",
       "1049995    8.73  525.51   50.09  \n",
       "1049996  379.69  684.26    7.49  \n",
       "1049997   62.33  582.50  605.38  \n",
       "\n",
       "[1049994 rows x 7 columns]"
      ]
     },
     "execution_count": 16,
     "metadata": {},
     "output_type": "execute_result"
    }
   ],
   "source": [
    "data = data[data['2014'] != excluded_row_5['2014'].values[0]]\n",
    "data"
   ]
  },
  {
   "cell_type": "markdown",
   "id": "01c0e282",
   "metadata": {},
   "source": [
    "This completes all the data cleaning. I do not check for NA values in python as this has been taken care of when loading the data onto the SQL database."
   ]
  },
  {
   "cell_type": "markdown",
   "id": "e4d91282",
   "metadata": {},
   "source": [
    "$\\textbf{Fitting a model to estimate the 2016 prices: }$"
   ]
  },
  {
   "cell_type": "code",
   "execution_count": 17,
   "id": "ba742f94",
   "metadata": {},
   "outputs": [],
   "source": [
    "# Splitting the data into training and testing data\n",
    "data_train = data.sample(frac=0.7, random_state=1)  # Training data\n",
    "data_test = data.drop(data_train.index)              # testing data"
   ]
  },
  {
   "cell_type": "markdown",
   "id": "4f5dc769",
   "metadata": {},
   "source": [
    "The 2016 price of service for each customers' vehicles will be derived from the 2014 and 2015 values."
   ]
  },
  {
   "cell_type": "code",
   "execution_count": 18,
   "id": "1b54c2c6",
   "metadata": {},
   "outputs": [],
   "source": [
    "model_features = ['2014', '2015']   # x value columns for training data\n",
    "y_vals = ['2016E']                  # y value column for validation of training data\n",
    "model_train_X = data_train[model_features]\n",
    "model_train_y = data_train['2016E'] \n",
    "model_test_X = data_test[model_features]\n",
    "model_test_y = data_test['2016E'] \n",
    "\n",
    "train_x, val_x, train_y, val_y = train_test_split(model_train_X, model_train_y, random_state=1) # splitting train data into training and val\n"
   ]
  },
  {
   "cell_type": "markdown",
   "id": "dca4cd02",
   "metadata": {},
   "source": [
    "Using the Decision Tree Regressor"
   ]
  },
  {
   "cell_type": "code",
   "execution_count": 19,
   "id": "c2bc8197",
   "metadata": {},
   "outputs": [],
   "source": [
    "# Code to find the best number of leaf nodes for the regressor\n",
    "max_leaf_nodes = [ 2,3, 4,  5, 10, 20, 25] \n",
    "def tree_nodes_optimizer(nodes, x_t, x_v, y_t, y_v):\n",
    "    model = DecisionTreeRegressor(max_leaf_nodes=nodes, random_state=1)\n",
    "    model.fit(x_t, y_t)\n",
    "    return(mean_absolute_error(y_v, model.predict(x_v)))\n"
   ]
  },
  {
   "cell_type": "code",
   "execution_count": 20,
   "id": "eb13f4c5",
   "metadata": {},
   "outputs": [
    {
     "name": "stdout",
     "output_type": "stream",
     "text": [
      "The lowest mean absolute error is 200.58158941819931 when the max leaf nodes is 2\n"
     ]
    }
   ],
   "source": [
    "mae_vals = []   # empty list for the mean absolute errors for each value of max leaf nodes\n",
    "for node in max_leaf_nodes:\n",
    "    mae_vals.append(tree_nodes_optimizer(node, train_x, val_x, train_y, val_y))\n",
    "\n",
    "optimized_max_nodes = max_leaf_nodes[mae_vals.index(min(mae_vals))]\n",
    "min_mae = min(mae_vals)\n",
    "print(\"The lowest mean absolute error is {} when the max leaf nodes is {}\".format(min_mae, optimized_max_nodes))"
   ]
  },
  {
   "cell_type": "code",
   "execution_count": 21,
   "id": "b99a0a2c",
   "metadata": {},
   "outputs": [
    {
     "name": "stdout",
     "output_type": "stream",
     "text": [
      "The mean asbolute error using 2 leaf nodes in the decision tree regressor is 199.99806223418744\n"
     ]
    }
   ],
   "source": [
    "model_tree = DecisionTreeRegressor(max_leaf_nodes=optimized_max_nodes, random_state=1)\n",
    "model_tree.fit(model_train_X, model_train_y)\n",
    "Y_tree = model_tree.predict(model_test_X)\n",
    "mae_tree = mean_absolute_error(Y_tree, model_test_y)\n",
    "print('The mean asbolute error using {} leaf nodes in the decision tree regressor is {}'.format(optimized_max_nodes, mae_tree))\n"
   ]
  },
  {
   "cell_type": "markdown",
   "id": "1b67ad65",
   "metadata": {},
   "source": [
    "Using the Random Forest Regressor:"
   ]
  },
  {
   "cell_type": "code",
   "execution_count": 22,
   "id": "a2319dda",
   "metadata": {},
   "outputs": [
    {
     "name": "stdout",
     "output_type": "stream",
     "text": [
      "The mean asbolute error using the Random Forest Regressor is 201.70690167477653\n"
     ]
    }
   ],
   "source": [
    "model_forest = RandomForestRegressor(random_state=1)\n",
    "model_forest.fit(model_train_X,  model_train_y.values.ravel())\n",
    "Y_forest = model_forest.predict(model_test_X)\n",
    "mae_forest = mean_absolute_error(Y_forest, model_test_y)\n",
    "print('The mean asbolute error using the Random Forest Regressor is {}'.format(mae_forest))"
   ]
  },
  {
   "cell_type": "markdown",
   "id": "63d5c1bc",
   "metadata": {},
   "source": [
    "Using Linear Regression "
   ]
  },
  {
   "cell_type": "code",
   "execution_count": 23,
   "id": "7fffbf68",
   "metadata": {},
   "outputs": [
    {
     "name": "stdout",
     "output_type": "stream",
     "text": [
      "The mean asbolute error using the Linear Regressor is 199.99861919011573\n"
     ]
    }
   ],
   "source": [
    "model_linear = LinearRegression()\n",
    "model_linear.fit(model_train_X, model_train_y)\n",
    "Y_linear = model_linear.predict(model_test_X) \n",
    "mae_linear = mean_absolute_error(model_test_y, Y_linear)\n",
    "print('The mean asbolute error using the Linear Regressor is {}'.format(mae_linear))"
   ]
  },
  {
   "cell_type": "markdown",
   "id": "330a260b",
   "metadata": {},
   "source": [
    "Linear regression is therefore the best model among the three used above in order to obtain estimates for the 2016 service prices of vehicles."
   ]
  }
 ],
 "metadata": {
  "kernelspec": {
   "display_name": "Python 3",
   "language": "python",
   "name": "python3"
  },
  "language_info": {
   "codemirror_mode": {
    "name": "ipython",
    "version": 3
   },
   "file_extension": ".py",
   "mimetype": "text/x-python",
   "name": "python",
   "nbconvert_exporter": "python",
   "pygments_lexer": "ipython3",
   "version": "3.11.1"
  }
 },
 "nbformat": 4,
 "nbformat_minor": 5
}
